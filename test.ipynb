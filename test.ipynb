{
 "cells": [
  {
   "cell_type": "code",
   "execution_count": 24,
   "id": "aedcbdf6",
   "metadata": {},
   "outputs": [
    {
     "name": "stdout",
     "output_type": "stream",
     "text": [
      "{\"type\":\"known\",\"accountId\":\"712020:08c7da5c-76a2-43b1-970b-caac5de2c2d0\",\"accountType\":\"atlassian\",\"email\":\"metalwallcrusher@gmail.com\",\"publicName\":\"Tường Đào Chí\",\"profilePicture\":{\"path\":\"/wiki/aa-avatar/712020:08c7da5c-76a2-43b1-970b-caac5de2c2d0\",\"width\":48,\"height\":48,\"isDefault\":false},\"displayName\":\"Tường Đào Chí\",\"isExternalCollaborator\":false,\"isGuest\":false,\"locale\":\"en_US\",\"accountStatus\":\"active\",\"_expandable\":{\"operations\":\"\",\"personalSpace\":\"\"},\"_links\":{\"self\":\"https://metalwallcrusher.atlassian.net/wiki/rest/api/user?accountId=712020:08c7da5c-76a2-43b1-970b-caac5de2c2d0\",\"base\":\"https://metalwallcrusher.atlassian.net/wiki\",\"context\":\"/wiki\"}}\n"
     ]
    }
   ],
   "source": [
    "import requests\n",
    "import json\n",
    "\n",
    "\n",
    "access_token = \"eyJraWQiOiJhdXRoLmF0bGFzc2lhbi5jb20tQUNDRVNTLTk0ZTczYTkwLTUxYWQtNGFjMS1hOWFjLWU4NGUwNDVjNDU3ZCIsImFsZyI6IlJTMjU2In0.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.GNWylLZ_So-eeMZ3F_QwW1p9OMX72J3ZQU4W6yYU5vFjJeiS2oDP1eHyaKSIYUTJc-uuwTbqIvG0r_f0XRrwZ7onHWyTrnyIDBMfFxKP6TV5NDvRsrJ8gFbgy6LMjc1o-EAhLKzC0HBWSt7AhqPL2kHBHvdh1LrwkE7-5I3hWmszwdHWR_5qoQV8J5R3Fpir4yL50pPy4uctn2cqA8ClyB-pOTVUBWhC2ynDSAtLev1FHGt2TuNHMhUuVWFTICz5YIxK7R7J2Fy38IaQxF2vhs4VdorB20YVU6UllivXf0D6gFnJrV441KcLdPzav5ECJ_pqRCQelottQgpOG2KGRw\" # Thay thế bằng token của bạn\n",
    "domain = \"metalwallcrusher\"\n",
    "cloud_id = \"122d270d-f780-4621-b27d-1989a54e38e5\" \n",
    "    \n",
    "     \n",
    "url = f\"https://api.atlassian.com/ex/confluence/{cloud_id}/wiki/rest/api/user/current\"\n",
    "\n",
    "\n",
    "headers = {\n",
    "        \"Authorization\": f\"Bearer {access_token}\",\n",
    "        \"Accept\": \"application/json\",\n",
    "        \"Content-Type\": \"application/json\" # Good practice, though mostly for write operations\n",
    "    }\n",
    "\n",
    "query = {\n",
    "  'accountId': '{accountId}'\n",
    "}\n",
    "\n",
    "response = requests.request(\n",
    "   \"GET\",\n",
    "   url,\n",
    "   headers=headers,\n",
    "   params=query,\n",
    ")\n",
    "\n",
    "print(response.text)"
   ]
  },
  {
   "cell_type": "code",
   "execution_count": 28,
   "id": "2acf9fc8",
   "metadata": {},
   "outputs": [
    {
     "name": "stdout",
     "output_type": "stream",
     "text": [
      "{\"code\":401,\"message\":\"Unauthorized; scope does not match\"}\n"
     ]
    }
   ],
   "source": [
    "url = f\"https://api.atlassian.com/ex/confluence/{cloud_id}/wiki/rest/api/pages?limit=5\"\n",
    "\n",
    "\n",
    "headers = {\n",
    "        \"Authorization\": f\"Bearer {access_token}\",\n",
    "        \"Accept\": \"application/json\",\n",
    "        \"Content-Type\": \"application/json\" # Good practice, though mostly for write operations\n",
    "    }\n",
    "\n",
    "query = {\n",
    "  'accountId': '{accountId}'\n",
    "}\n",
    "\n",
    "response = requests.request(\n",
    "   \"GET\",\n",
    "   url,\n",
    "   headers=headers,\n",
    "   params=query,\n",
    ")\n",
    "\n",
    "print(response.text)"
   ]
  },
  {
   "cell_type": "code",
   "execution_count": 27,
   "id": "1c7cb560",
   "metadata": {},
   "outputs": [
    {
     "name": "stdout",
     "output_type": "stream",
     "text": [
      "[{\"id\":\"122d270d-f780-4621-b27d-1989a54e38e5\",\"url\":\"https://metalwallcrusher.atlassian.net\",\"name\":\"metalwallcrusher\",\"scopes\":[\"manage:jira-project\",\"read:jira-user\",\"read:jira-work\",\"write:jira-work\"],\"avatarUrl\":\"https://site-admin-avatar-cdn.prod.public.atl-paas.net/avatars/240/cup.png\"},{\"id\":\"122d270d-f780-4621-b27d-1989a54e38e5\",\"url\":\"https://metalwallcrusher.atlassian.net\",\"name\":\"metalwallcrusher\",\"scopes\":[\"read:confluence-content.all\",\"read:confluence-content.permission\",\"read:confluence-content.summary\",\"read:confluence-space.summary\",\"read:confluence-user\",\"readonly:content.attachment:confluence\"],\"avatarUrl\":\"https://site-admin-avatar-cdn.prod.public.atl-paas.net/avatars/240/cup.png\"}]\n"
     ]
    }
   ],
   "source": [
    "url = f\"https://api.atlassian.com/oauth/token/accessible-resources\"\n",
    "\n",
    "\n",
    "headers = {\n",
    "        \"Authorization\": f\"Bearer {access_token}\",\n",
    "        \"Accept\": \"application/json\",\n",
    "        \"Content-Type\": \"application/json\" # Good practice, though mostly for write operations\n",
    "    }\n",
    "\n",
    "query = {\n",
    "  'accountId': '{accountId}'\n",
    "}\n",
    "\n",
    "response = requests.request(\n",
    "   \"GET\",\n",
    "   url,\n",
    "   headers=headers,\n",
    "   params=query,\n",
    ")\n",
    "\n",
    "print(response.text)"
   ]
  }
 ],
 "metadata": {
  "kernelspec": {
   "display_name": "venv",
   "language": "python",
   "name": "python3"
  },
  "language_info": {
   "codemirror_mode": {
    "name": "ipython",
    "version": 3
   },
   "file_extension": ".py",
   "mimetype": "text/x-python",
   "name": "python",
   "nbconvert_exporter": "python",
   "pygments_lexer": "ipython3",
   "version": "3.11.5"
  }
 },
 "nbformat": 4,
 "nbformat_minor": 5
}
