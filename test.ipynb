{
 "cells": [
  {
   "cell_type": "code",
   "execution_count": 92,
   "id": "aedcbdf6",
   "metadata": {},
   "outputs": [
    {
     "name": "stdout",
     "output_type": "stream",
     "text": [
      "{\"type\":\"known\",\"accountId\":\"712020:08c7da5c-76a2-43b1-970b-caac5de2c2d0\",\"accountType\":\"atlassian\",\"email\":\"metalwallcrusher@gmail.com\",\"publicName\":\"Tường Đào Chí\",\"profilePicture\":{\"path\":\"/wiki/aa-avatar/712020:08c7da5c-76a2-43b1-970b-caac5de2c2d0\",\"width\":48,\"height\":48,\"isDefault\":false},\"displayName\":\"Tường Đào Chí\",\"isExternalCollaborator\":false,\"isGuest\":false,\"locale\":\"en_US\",\"accountStatus\":\"active\",\"_expandable\":{\"operations\":\"\",\"personalSpace\":\"\"},\"_links\":{\"self\":\"https://metalwallcrusher.atlassian.net/wiki/rest/api/user?accountId=712020:08c7da5c-76a2-43b1-970b-caac5de2c2d0\",\"base\":\"https://metalwallcrusher.atlassian.net/wiki\",\"context\":\"/wiki\"}}\n"
     ]
    }
   ],
   "source": [
    "import requests\n",
    "import json\n",
    "\n",
    "\n",
    "access_token = \"eyJraWQiOiJhdXRoLmF0bGFzc2lhbi5jb20tQUNDRVNTLTk0ZTczYTkwLTUxYWQtNGFjMS1hOWFjLWU4NGUwNDVjNDU3ZCIsImFsZyI6IlJTMjU2In0.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.tC8VvL8m4hjV6oHgkAzQhXz4-USgQDBWxaKvLKh3hwRKn2uOORIuzD6nxn2RPX9ihKi1d6IhptwSvIzV0G88rB58ICipx7ZM9-zttJqLm898YHBEGqZAKfB-5JdwOT2NYnf6lrEZrZqAAwaZ1M6vtRC_k2jNg1zAZsXTEjpjzxJ94_Bjhcix2Q5UcMoAO4A8s3NZgSI8ctmTlAZAyWfuEdWdXLdoOvwnnLLjlXLNhR26GKa1Pq4AiUBGlwqoh8n2814YgXp3eizr7SSDn2FE1-XYPO864aWAzdZNsq1ZNmTgWA2_2KP52Tq4cb-_6YIv--Wn_pBIyvHWwHXddQ0g0g\" # Thay thế bằng token của bạn\n",
    "domain = \"metalwallcrusher\"\n",
    "cloud_id = \"122d270d-f780-4621-b27d-1989a54e38e5\" \n",
    "    \n",
    "     \n",
    "url = f\"https://api.atlassian.com/ex/confluence/{cloud_id}/wiki/rest/api/user/current\"\n",
    "\n",
    "\n",
    "headers = {\n",
    "        \"Authorization\": f\"Bearer {access_token}\",\n",
    "        \"Accept\": \"application/json\",\n",
    "        \"Content-Type\": \"application/json\" # Good practice, though mostly for write operations\n",
    "    }\n",
    "\n",
    "query = {\n",
    "  'accountId': '{accountId}'\n",
    "}\n",
    "\n",
    "response = requests.request(\n",
    "   \"GET\",\n",
    "   url,\n",
    "   headers=headers,\n",
    "   params=query,\n",
    ")\n",
    "\n",
    "print(response.text)"
   ]
  },
  {
   "cell_type": "code",
   "execution_count": 93,
   "id": "e352e0a3",
   "metadata": {},
   "outputs": [],
   "source": [
    "from atlassian import Confluence\n",
    "import requests\n",
    "\n",
    "session = requests.Session()\n",
    "session.headers.update({\n",
    "    \"Authorization\": f\"Bearer {access_token}\",\n",
    "    \"Accept\": \"application/json\",\n",
    "    \"Content-Type\": \"application/json\"\n",
    "})\n",
    "\n",
    "base_url = f\"https://api.atlassian.com/ex/confluence/{cloud_id}/wiki\"\n",
    "# Khởi tạo Confluence client với base_url + session tùy chỉnh\n",
    "confluence = Confluence(\n",
    "    url=base_url,\n",
    "    session=session,\n",
    "    cloud=True \n",
    ")"
   ]
  }
 ],
 "metadata": {
  "kernelspec": {
   "display_name": "venv",
   "language": "python",
   "name": "python3"
  },
  "language_info": {
   "codemirror_mode": {
    "name": "ipython",
    "version": 3
   },
   "file_extension": ".py",
   "mimetype": "text/x-python",
   "name": "python",
   "nbconvert_exporter": "python",
   "pygments_lexer": "ipython3",
   "version": "3.11.5"
  }
 },
 "nbformat": 4,
 "nbformat_minor": 5
}
